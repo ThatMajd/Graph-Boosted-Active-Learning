{
 "cells": [
  {
   "cell_type": "code",
   "execution_count": 1,
   "metadata": {},
   "outputs": [
    {
     "name": "stderr",
     "output_type": "stream",
     "text": [
      "c:\\Users\\Saleem\\AppData\\Local\\Programs\\Python\\Python312\\Lib\\site-packages\\torch_geometric\\typing.py:72: UserWarning: An issue occurred while importing 'torch-scatter'. Disabling its usage. Stacktrace: [WinError 127] The specified procedure could not be found\n",
      "  warnings.warn(f\"An issue occurred while importing 'torch-scatter'. \"\n",
      "c:\\Users\\Saleem\\AppData\\Local\\Programs\\Python\\Python312\\Lib\\site-packages\\torch_geometric\\typing.py:110: UserWarning: An issue occurred while importing 'torch-sparse'. Disabling its usage. Stacktrace: [WinError 127] The specified procedure could not be found\n",
      "  warnings.warn(f\"An issue occurred while importing 'torch-sparse'. \"\n"
     ]
    }
   ],
   "source": [
    "from sklearn.linear_model import LogisticRegression\n",
    "from utils.dataset_wrapper import WrapperDataset\n",
    "from pipeline import GAL\n",
    "import numpy as np\n",
    "import wandb\n",
    "import os"
   ]
  },
  {
   "cell_type": "code",
   "execution_count": null,
   "metadata": {},
   "outputs": [],
   "source": [
    "sweep_config = {\n",
    "\t'method': 'grid',\n",
    "}\n",
    "\n",
    "metric = {\n",
    "\t'name': 'Accuracy',\n",
    "\t'goal': 'maximize',\n",
    "}\n",
    "\n",
    "parameters = {\n",
    "\t\"dataset\": {\n",
    "\t\t\"values\": [\"lab_dataset_2000.pkl\"]  # Replace with actual dataset options\n",
    "\t},\n",
    "\t\"classifier\": {\n",
    "\t\t\"values\": [\"LogisticRegression\"]\n",
    "\t},\n",
    "\t\"iterations\": {\n",
    "\t\t\"values\": [100]\n",
    "\t},\n",
    "\t\"budget_per_iter\": {\n",
    "\t\t\"values\": [8]\n",
    "\t},\n",
    "\t\"quantile\": {\n",
    "\t\t\"values\": [0.1, 0.25, 0.5]\n",
    "\t},\n",
    "\t\"sim_metric\": {\n",
    "\t\t\"values\": [\"cosine\", \"euclidean\"]  # Replace with actual similarity metrics\n",
    "\t},\n",
    "\t# \"uncertainty_measures\": {\n",
    "\t#     \"values\": [[\"measure1\", \"measure2\"], [\"measure3\"]]  # Replace with actual measures\n",
    "\t# },\n",
    "\t\"AL4GE\": {\n",
    "\t\t\"values\": [False]\n",
    "\t},\n",
    "\t\"uncertainty_measures\": {\n",
    "\t\t\"values\": [['entropy_e',\n",
    "\t\t\t\t\t'density_kmean',\n",
    "\t\t\t\t\t'pagerank',\n",
    "\t\t\t\t\t'area_variance',],]\n",
    "\t},\n",
    "\t\"coef\": {\n",
    "\t\t\"values\": [[True, True, False, False], ]\n",
    "\t},\n",
    "\t\"n_clusters\": {\n",
    "\t\t\"values\": [2, 4, 5, 6]\n",
    "\t},\n",
    "\t\"use_gnn\": {\n",
    "\t\t\"values\": [True]\n",
    "\t},\n",
    "\t\"gnn_epochs\": {\n",
    "\t\t\"values\": [5, 15, 25]\n",
    "\t},\n",
    "\t\"hidden_size\": {\n",
    "\t\t\"values\": [32, 64]  # Hidden layer sizes for GNN\n",
    "\t},\n",
    "\t'wandb': {\n",
    "\t\t'value': 1\n",
    "\t}\n",
    "}\n",
    "\n",
    "sweep_config['metric'] = metric\n",
    "sweep_config['parameters'] = parameters\n"
   ]
  },
  {
   "cell_type": "code",
   "execution_count": null,
   "metadata": {},
   "outputs": [],
   "source": [
    "import pprint\n",
    "pprint.pprint(sweep_config)"
   ]
  },
  {
   "cell_type": "code",
   "execution_count": 2,
   "metadata": {},
   "outputs": [
    {
     "data": {
      "text/plain": [
       "['dataset_q1.pkl', 'iris.pkl', 'lab_dataset.pkl', 'wineQT.pkl']"
      ]
     },
     "execution_count": 2,
     "metadata": {},
     "output_type": "execute_result"
    }
   ],
   "source": [
    "os.listdir('data')"
   ]
  },
  {
   "cell_type": "code",
   "execution_count": 3,
   "metadata": {},
   "outputs": [],
   "source": [
    "def sample(dataset, train_size=None, pool_size=2_000, test_size=1_000):\n",
    "\tn_pool = len(dataset['available_pool_samples'])\n",
    "\tn_test = len(dataset['test_samples'])\n",
    "\n",
    "\tpool_sample_idx = np.random.choice(range(n_pool), pool_size)\n",
    "\ttest_sample_idx = np.random.choice(range(n_test), test_size)\n",
    "\n",
    "\tdataset['available_pool_samples'] = dataset['available_pool_samples'][pool_sample_idx]\n",
    "\tdataset['available_pool_labels'] = dataset['available_pool_labels'][pool_sample_idx]\n",
    "\n",
    "\tdataset[\"test_samples\"] = dataset[\"test_samples\"][test_sample_idx]\n",
    "\tdataset[\"test_labels\"] = dataset[\"test_labels\"][test_sample_idx]"
   ]
  },
  {
   "cell_type": "code",
   "execution_count": 4,
   "metadata": {},
   "outputs": [],
   "source": [
    "ds_name = 'lab_dataset.pkl'\n",
    "data_object = WrapperDataset(ds_name)\n",
    "dataset = data_object.dataset\n",
    "sample(dataset)\n",
    "\n",
    "input_dim = data_object.dim\n",
    "output_dim = data_object.num_labels\n",
    "labels = output_dim"
   ]
  },
  {
   "cell_type": "code",
   "execution_count": 5,
   "metadata": {},
   "outputs": [
    {
     "data": {
      "text/plain": [
       "(2000,)"
      ]
     },
     "execution_count": 5,
     "metadata": {},
     "output_type": "execute_result"
    }
   ],
   "source": [
    "dataset['available_pool_labels'].shape"
   ]
  },
  {
   "cell_type": "code",
   "execution_count": 6,
   "metadata": {},
   "outputs": [],
   "source": [
    "iterations = 100\n",
    "budg_per = 20\n",
    "gnn_epochs = 20\n",
    "quantile = .01\n",
    "hidden_dim = 64\n",
    "use_gnn = True"
   ]
  },
  {
   "cell_type": "code",
   "execution_count": 7,
   "metadata": {},
   "outputs": [
    {
     "name": "stdout",
     "output_type": "stream",
     "text": [
      "SimpleGNN(\n",
      "  (encoder_conv1): GCNConv(3, 64)\n",
      "  (encoder_conv2): SAGEConv(64, 64, aggr=sum)\n",
      "  (decoder): Classifier(\n",
      "    (model): Sequential(\n",
      "      (0): Linear(in_features=64, out_features=64, bias=True)\n",
      "      (1): ReLU()\n",
      "      (2): Linear(in_features=64, out_features=128, bias=True)\n",
      "      (3): ReLU()\n",
      "      (4): Linear(in_features=128, out_features=4, bias=True)\n",
      "    )\n",
      "    (softmax): Softmax(dim=-1)\n",
      "  )\n",
      ")\n"
     ]
    }
   ],
   "source": [
    "al = GAL(dataset,\n",
    "\t\t LogisticRegression(),\n",
    "\t\t budg_per,\n",
    "\t\t uncertainty_measures=['entropy_e',\n",
    "\t\t\t\t\t\t 'density_kmean',\n",
    "\t\t\t\t\t\t 'pagerank',\n",
    "\t\t\t\t\t\t 'area_variance',],\n",
    "\t\t # coef=[True, True, False, False],\n",
    "\t\t iterations=iterations,\n",
    "\t\t gnn_epochs=gnn_epochs,\n",
    "\t\t quantile=quantile,\n",
    "\t\t labels=labels,\n",
    "\t\t input_dim=input_dim,\n",
    "\t\t hidden_dim=hidden_dim,\n",
    "\t\t output_dim=output_dim,\n",
    "\t\t use_gnn=use_gnn,\n",
    "\t\t train_graph_include_test=True,)"
   ]
  },
  {
   "cell_type": "code",
   "execution_count": 8,
   "metadata": {},
   "outputs": [
    {
     "name": "stderr",
     "output_type": "stream",
     "text": [
      "  0%|          | 0/100 [00:00<?, ?it/s]c:\\Users\\Saleem\\AppData\\Local\\Programs\\Python\\Python312\\Lib\\site-packages\\threadpoolctl.py:1186: RuntimeWarning: \n",
      "Found Intel OpenMP ('libiomp') and LLVM OpenMP ('libomp') loaded at\n",
      "the same time. Both libraries are known to be incompatible and this\n",
      "can cause random crashes or deadlocks on Linux when loaded in the\n",
      "same Python program.\n",
      "Using threadpoolctl may cause crashes or deadlocks. For more\n",
      "information and possible workarounds, please see\n",
      "    https://github.com/joblib/threadpoolctl/blob/master/multiple_openmp.md\n",
      "\n",
      "  warnings.warn(msg, RuntimeWarning)\n",
      " 33%|███▎      | 33/100 [00:53<01:49,  1.64s/it, GAL_Iteration=32, GAL_Accuracy=0.627, GAL_LR test acc=0.706, GNN Train Acc=0.628, GNN Test Acc=0.565]\n"
     ]
    },
    {
     "ename": "KeyboardInterrupt",
     "evalue": "",
     "output_type": "error",
     "traceback": [
      "\u001b[1;31m---------------------------------------------------------------------------\u001b[0m",
      "\u001b[1;31mKeyboardInterrupt\u001b[0m                         Traceback (most recent call last)",
      "Cell \u001b[1;32mIn[8], line 1\u001b[0m\n\u001b[1;32m----> 1\u001b[0m res_gal \u001b[38;5;241m=\u001b[39m \u001b[43mal\u001b[49m\u001b[38;5;241;43m.\u001b[39;49m\u001b[43mrun\u001b[49m\u001b[43m(\u001b[49m\u001b[43mplot\u001b[49m\u001b[38;5;241;43m=\u001b[39;49m\u001b[38;5;28;43;01mFalse\u001b[39;49;00m\u001b[43m)\u001b[49m\n",
      "File \u001b[1;32mc:\\Users\\Saleem\\OneDrive - Technion\\Data science\\semester 8\\Lab\\Project\\pipeline.py:226\u001b[0m, in \u001b[0;36mGAL.run\u001b[1;34m(self, **kwargs)\u001b[0m\n\u001b[0;32m    223\u001b[0m \u001b[38;5;28mself\u001b[39m\u001b[38;5;241m.\u001b[39mclassifier\u001b[38;5;241m.\u001b[39mfit(\u001b[38;5;28mself\u001b[39m\u001b[38;5;241m.\u001b[39mtrain_samples, \u001b[38;5;28mself\u001b[39m\u001b[38;5;241m.\u001b[39mtrain_labels)\n\u001b[0;32m    225\u001b[0m \u001b[38;5;28;01mif\u001b[39;00m \u001b[38;5;28mself\u001b[39m\u001b[38;5;241m.\u001b[39muse_gnn:\n\u001b[1;32m--> 226\u001b[0m \tgnn_train_acc \u001b[38;5;241m=\u001b[39m \u001b[38;5;28;43mself\u001b[39;49m\u001b[38;5;241;43m.\u001b[39;49m\u001b[43m_train_gnn\u001b[49m\u001b[43m(\u001b[49m\u001b[43m)\u001b[49m\n\u001b[0;32m    228\u001b[0m nx_G \u001b[38;5;241m=\u001b[39m \u001b[38;5;28mself\u001b[39m\u001b[38;5;241m.\u001b[39mgraph_builder\u001b[38;5;241m.\u001b[39mbuild(\n\u001b[0;32m    229\u001b[0m \t\u001b[38;5;28mself\u001b[39m\u001b[38;5;241m.\u001b[39mavailable_pool_samples,\n\u001b[0;32m    230\u001b[0m \t\u001b[38;5;28mself\u001b[39m\u001b[38;5;241m.\u001b[39mavailable_pool_labels,\n\u001b[0;32m    231\u001b[0m \t\u001b[38;5;28mself\u001b[39m\u001b[38;5;241m.\u001b[39mquantile)\n\u001b[0;32m    232\u001b[0m \u001b[38;5;28;01mif\u001b[39;00m graph_flag:\n",
      "File \u001b[1;32mc:\\Users\\Saleem\\OneDrive - Technion\\Data science\\semester 8\\Lab\\Project\\pipeline.py:166\u001b[0m, in \u001b[0;36mGAL._train_gnn\u001b[1;34m(self)\u001b[0m\n\u001b[0;32m    162\u001b[0m loss \u001b[38;5;241m=\u001b[39m \u001b[38;5;28mself\u001b[39m\u001b[38;5;241m.\u001b[39mcriterion(out[\u001b[38;5;28mself\u001b[39m\u001b[38;5;241m.\u001b[39mtrain_graph\u001b[38;5;241m.\u001b[39mtrain_mask],\n\u001b[0;32m    163\u001b[0m \t\t\t\t\t  \u001b[38;5;28mself\u001b[39m\u001b[38;5;241m.\u001b[39mtrain_graph\u001b[38;5;241m.\u001b[39my[\u001b[38;5;28mself\u001b[39m\u001b[38;5;241m.\u001b[39mtrain_graph\u001b[38;5;241m.\u001b[39mtrain_mask])  \u001b[38;5;66;03m# Use only train mask nodes\u001b[39;00m\n\u001b[0;32m    165\u001b[0m \u001b[38;5;28mself\u001b[39m\u001b[38;5;241m.\u001b[39moptimizer\u001b[38;5;241m.\u001b[39mzero_grad()\n\u001b[1;32m--> 166\u001b[0m \u001b[43mloss\u001b[49m\u001b[38;5;241;43m.\u001b[39;49m\u001b[43mbackward\u001b[49m\u001b[43m(\u001b[49m\u001b[43m)\u001b[49m\n\u001b[0;32m    167\u001b[0m \u001b[38;5;28mself\u001b[39m\u001b[38;5;241m.\u001b[39moptimizer\u001b[38;5;241m.\u001b[39mstep()\n\u001b[0;32m    169\u001b[0m _, preds \u001b[38;5;241m=\u001b[39m out[\u001b[38;5;28mself\u001b[39m\u001b[38;5;241m.\u001b[39mtrain_graph\u001b[38;5;241m.\u001b[39mtrain_mask]\u001b[38;5;241m.\u001b[39mmax(dim\u001b[38;5;241m=\u001b[39m\u001b[38;5;241m1\u001b[39m)  \u001b[38;5;66;03m# Get the index of the max log-probability\u001b[39;00m\n",
      "File \u001b[1;32mc:\\Users\\Saleem\\AppData\\Local\\Programs\\Python\\Python312\\Lib\\site-packages\\torch\\_tensor.py:521\u001b[0m, in \u001b[0;36mTensor.backward\u001b[1;34m(self, gradient, retain_graph, create_graph, inputs)\u001b[0m\n\u001b[0;32m    511\u001b[0m \u001b[38;5;28;01mif\u001b[39;00m has_torch_function_unary(\u001b[38;5;28mself\u001b[39m):\n\u001b[0;32m    512\u001b[0m     \u001b[38;5;28;01mreturn\u001b[39;00m handle_torch_function(\n\u001b[0;32m    513\u001b[0m         Tensor\u001b[38;5;241m.\u001b[39mbackward,\n\u001b[0;32m    514\u001b[0m         (\u001b[38;5;28mself\u001b[39m,),\n\u001b[1;32m   (...)\u001b[0m\n\u001b[0;32m    519\u001b[0m         inputs\u001b[38;5;241m=\u001b[39minputs,\n\u001b[0;32m    520\u001b[0m     )\n\u001b[1;32m--> 521\u001b[0m \u001b[43mtorch\u001b[49m\u001b[38;5;241;43m.\u001b[39;49m\u001b[43mautograd\u001b[49m\u001b[38;5;241;43m.\u001b[39;49m\u001b[43mbackward\u001b[49m\u001b[43m(\u001b[49m\n\u001b[0;32m    522\u001b[0m \u001b[43m    \u001b[49m\u001b[38;5;28;43mself\u001b[39;49m\u001b[43m,\u001b[49m\u001b[43m \u001b[49m\u001b[43mgradient\u001b[49m\u001b[43m,\u001b[49m\u001b[43m \u001b[49m\u001b[43mretain_graph\u001b[49m\u001b[43m,\u001b[49m\u001b[43m \u001b[49m\u001b[43mcreate_graph\u001b[49m\u001b[43m,\u001b[49m\u001b[43m \u001b[49m\u001b[43minputs\u001b[49m\u001b[38;5;241;43m=\u001b[39;49m\u001b[43minputs\u001b[49m\n\u001b[0;32m    523\u001b[0m \u001b[43m\u001b[49m\u001b[43m)\u001b[49m\n",
      "File \u001b[1;32mc:\\Users\\Saleem\\AppData\\Local\\Programs\\Python\\Python312\\Lib\\site-packages\\torch\\autograd\\__init__.py:289\u001b[0m, in \u001b[0;36mbackward\u001b[1;34m(tensors, grad_tensors, retain_graph, create_graph, grad_variables, inputs)\u001b[0m\n\u001b[0;32m    284\u001b[0m     retain_graph \u001b[38;5;241m=\u001b[39m create_graph\n\u001b[0;32m    286\u001b[0m \u001b[38;5;66;03m# The reason we repeat the same comment below is that\u001b[39;00m\n\u001b[0;32m    287\u001b[0m \u001b[38;5;66;03m# some Python versions print out the first line of a multi-line function\u001b[39;00m\n\u001b[0;32m    288\u001b[0m \u001b[38;5;66;03m# calls in the traceback and some print out the last line\u001b[39;00m\n\u001b[1;32m--> 289\u001b[0m \u001b[43m_engine_run_backward\u001b[49m\u001b[43m(\u001b[49m\n\u001b[0;32m    290\u001b[0m \u001b[43m    \u001b[49m\u001b[43mtensors\u001b[49m\u001b[43m,\u001b[49m\n\u001b[0;32m    291\u001b[0m \u001b[43m    \u001b[49m\u001b[43mgrad_tensors_\u001b[49m\u001b[43m,\u001b[49m\n\u001b[0;32m    292\u001b[0m \u001b[43m    \u001b[49m\u001b[43mretain_graph\u001b[49m\u001b[43m,\u001b[49m\n\u001b[0;32m    293\u001b[0m \u001b[43m    \u001b[49m\u001b[43mcreate_graph\u001b[49m\u001b[43m,\u001b[49m\n\u001b[0;32m    294\u001b[0m \u001b[43m    \u001b[49m\u001b[43minputs\u001b[49m\u001b[43m,\u001b[49m\n\u001b[0;32m    295\u001b[0m \u001b[43m    \u001b[49m\u001b[43mallow_unreachable\u001b[49m\u001b[38;5;241;43m=\u001b[39;49m\u001b[38;5;28;43;01mTrue\u001b[39;49;00m\u001b[43m,\u001b[49m\n\u001b[0;32m    296\u001b[0m \u001b[43m    \u001b[49m\u001b[43maccumulate_grad\u001b[49m\u001b[38;5;241;43m=\u001b[39;49m\u001b[38;5;28;43;01mTrue\u001b[39;49;00m\u001b[43m,\u001b[49m\n\u001b[0;32m    297\u001b[0m \u001b[43m\u001b[49m\u001b[43m)\u001b[49m\n",
      "File \u001b[1;32mc:\\Users\\Saleem\\AppData\\Local\\Programs\\Python\\Python312\\Lib\\site-packages\\torch\\autograd\\graph.py:768\u001b[0m, in \u001b[0;36m_engine_run_backward\u001b[1;34m(t_outputs, *args, **kwargs)\u001b[0m\n\u001b[0;32m    766\u001b[0m     unregister_hooks \u001b[38;5;241m=\u001b[39m _register_logging_hooks_on_whole_graph(t_outputs)\n\u001b[0;32m    767\u001b[0m \u001b[38;5;28;01mtry\u001b[39;00m:\n\u001b[1;32m--> 768\u001b[0m     \u001b[38;5;28;01mreturn\u001b[39;00m \u001b[43mVariable\u001b[49m\u001b[38;5;241;43m.\u001b[39;49m\u001b[43m_execution_engine\u001b[49m\u001b[38;5;241;43m.\u001b[39;49m\u001b[43mrun_backward\u001b[49m\u001b[43m(\u001b[49m\u001b[43m  \u001b[49m\u001b[38;5;66;43;03m# Calls into the C++ engine to run the backward pass\u001b[39;49;00m\n\u001b[0;32m    769\u001b[0m \u001b[43m        \u001b[49m\u001b[43mt_outputs\u001b[49m\u001b[43m,\u001b[49m\u001b[43m \u001b[49m\u001b[38;5;241;43m*\u001b[39;49m\u001b[43margs\u001b[49m\u001b[43m,\u001b[49m\u001b[43m \u001b[49m\u001b[38;5;241;43m*\u001b[39;49m\u001b[38;5;241;43m*\u001b[39;49m\u001b[43mkwargs\u001b[49m\n\u001b[0;32m    770\u001b[0m \u001b[43m    \u001b[49m\u001b[43m)\u001b[49m  \u001b[38;5;66;03m# Calls into the C++ engine to run the backward pass\u001b[39;00m\n\u001b[0;32m    771\u001b[0m \u001b[38;5;28;01mfinally\u001b[39;00m:\n\u001b[0;32m    772\u001b[0m     \u001b[38;5;28;01mif\u001b[39;00m attach_logging_hooks:\n",
      "\u001b[1;31mKeyboardInterrupt\u001b[0m: "
     ]
    }
   ],
   "source": [
    "res_gal = al.run(plot=False)"
   ]
  },
  {
   "cell_type": "code",
   "execution_count": null,
   "metadata": {},
   "outputs": [],
   "source": [
    "import matplotlib.pyplot as plt"
   ]
  },
  {
   "cell_type": "code",
   "execution_count": null,
   "metadata": {},
   "outputs": [
    {
     "data": {
      "image/png": "[encoded data removed]",
      "text/plain": [
       "<Figure size 640x480 with 1 Axes>"
      ]
     },
     "metadata": {},
     "output_type": "display_data"
    }
   ],
   "source": [
    "plt.plot(res_gal['aggr'], label='GAL')\n",
    "if al.use_gnn:\n",
    "\tplt.plot(res_gal['GNN'], label='GNN', alpha=.5)\n",
    "\tplt.plot(res_gal['LR'], label='LR', alpha=.5)\n",
    "\n",
    "# for criterion, accuracy_scores in accuracy_scores_dict.items():\n",
    "# \tplt.plot(accuracy_scores, label=criterion)\n",
    "# \t# plt.plot(range(1, len(accuracy_scores) + 1), accuracy_scores, label=criterion)\n",
    "\n",
    "plt.xlabel('Iterations')\n",
    "plt.ylabel('Accuracy')\n",
    "# plt.xticks(range(1, len(accuracy_scores) + 1))\n",
    "plt.legend()\n",
    "plt.show()\n"
   ]
  }
 ],
 "metadata": {
  "kernelspec": {
   "display_name": "Python 3",
   "language": "python",
   "name": "python3"
  },
  "language_info": {
   "codemirror_mode": {
    "name": "ipython",
    "version": 3
   },
   "file_extension": ".py",
   "mimetype": "text/x-python",
   "name": "python",
   "nbconvert_exporter": "python",
   "pygments_lexer": "ipython3",
   "version": "3.12.1"
  }
 },
 "nbformat": 4,
 "nbformat_minor": 2
}
