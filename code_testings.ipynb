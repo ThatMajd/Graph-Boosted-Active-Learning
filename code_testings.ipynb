{
 "cells": [
  {
   "cell_type": "code",
   "execution_count": 1,
   "metadata": {},
   "outputs": [],
   "source": [
    "from ActiveLearning import ActiveLearningPipeline"
   ]
  },
  {
   "cell_type": "code",
   "execution_count": 1,
   "metadata": {},
   "outputs": [],
   "source": [
    "from ds_gen import gen"
   ]
  },
  {
   "cell_type": "code",
   "execution_count": 2,
   "metadata": {},
   "outputs": [
    {
     "data": {
      "text/plain": [
       "array([[ 6.33301453,  4.92201455],\n",
       "       [ 4.01023158,  9.06025125],\n",
       "       [ 6.89663234,  7.50427968],\n",
       "       [ 0.26215525, -0.22680564],\n",
       "       [-0.8881758 ,  1.1156358 ],\n",
       "       [ 4.98695147,  7.80707655],\n",
       "       [ 0.47124175,  1.46204481],\n",
       "       [-0.22793736, -0.121428  ],\n",
       "       [ 2.53360776,  7.28404013],\n",
       "       [ 8.31423231,  7.66200472],\n",
       "       [ 7.88903705,  7.81649576],\n",
       "       [ 4.26403319,  6.24637932],\n",
       "       [10.74958971,  4.42546072],\n",
       "       [ 0.38441282,  0.87642614],\n",
       "       [ 8.06838605,  7.71185727]])"
      ]
     },
     "execution_count": 2,
     "metadata": {},
     "output_type": "execute_result"
    }
   ],
   "source": [
    "ds, gs = gen([(0, 1), (6, 6)],\n",
    "\t\t\t [1, 2],\n",
    "\t\t\t [5, 10], shuffle_flag=True)\n",
    "ds"
   ]
  },
  {
   "cell_type": "code",
   "execution_count": 3,
   "metadata": {},
   "outputs": [
    {
     "data": {
      "text/plain": [
       "array([1, 1, 1, 0, 0, 1, 0, 0, 1, 1, 1, 1, 1, 0, 1])"
      ]
     },
     "execution_count": 3,
     "metadata": {},
     "output_type": "execute_result"
    }
   ],
   "source": [
    "gs"
   ]
  },
  {
   "cell_type": "code",
   "execution_count": 4,
   "metadata": {},
   "outputs": [
    {
     "data": {
      "text/plain": [
       "<matplotlib.collections.PathCollection at 0x2dc5584d2a0>"
      ]
     },
     "execution_count": 4,
     "metadata": {},
     "output_type": "execute_result"
    },
    {
     "data": {
      "image/png": "[encoded data removed]",
      "text/plain": [
       "<Figure size 640x480 with 1 Axes>"
      ]
     },
     "metadata": {},
     "output_type": "display_data"
    }
   ],
   "source": [
    "import matplotlib.pyplot as plt\n",
    "\n",
    "plt.scatter(ds[:, 0], ds[:, 1], c=gs)\n",
    "\n"
   ]
  },
  {
   "cell_type": "code",
   "execution_count": 5,
   "metadata": {},
   "outputs": [],
   "source": [
    "dataset = {}\n",
    "\n",
    "t_ds, t_gt = gen([(0, 1), (6, 6)],\n",
    "\t\t\t\t [1, 2],\n",
    "\t\t\t\t [5, 10], shuffle_flag=True)\n",
    "dataset['train_samples'] = t_ds\n",
    "dataset['train_labels'] = t_gt\n",
    "\n",
    "t_ds, t_gt = gen([(0, 1), (6, 6)],\n",
    "\t\t\t\t [1, 2],\n",
    "\t\t\t\t [5, 10], shuffle_flag=True)\n",
    "dataset['test_samples'] = t_ds\n",
    "dataset['test_labels'] = t_gt\n",
    "\n",
    "t_ds, t_gt = gen([(0, 1), (6, 6)],\n",
    "\t\t\t\t [1, 2],\n",
    "\t\t\t\t [20, 40], shuffle_flag=True)\n",
    "dataset['available_pool_samples'] = t_ds\n",
    "dataset['available_pool_labels'] = t_gt"
   ]
  },
  {
   "cell_type": "code",
   "execution_count": null,
   "metadata": {},
   "outputs": [
    {
     "name": "stdout",
     "output_type": "stream",
     "text": [
      "entropy\n"
     ]
    },
    {
     "name": "stderr",
     "output_type": "stream",
     "text": [
      "  0%|          | 0/10 [00:00<?, ?it/s]c:\\Users\\salee\\OneDrive - Technion\\Data science\\semester 8\\Lab\\Project\\utils\\Uncertainty.py:35: UserWarning: X values should be bigger than 0\n",
      "  warnings.warn(f'X values should be bigger than 0')\n",
      "  0%|          | 0/10 [00:00<?, ?it/s, Accuracy=1]c:\\Users\\salee\\OneDrive - Technion\\Data science\\semester 8\\Lab\\Project\\utils\\Uncertainty.py:35: UserWarning: X values should be bigger than 0\n",
      "  warnings.warn(f'X values should be bigger than 0')\n",
      "  0%|          | 0/10 [00:00<?, ?it/s, Accuracy=1]c:\\Users\\salee\\OneDrive - Technion\\Data science\\semester 8\\Lab\\Project\\utils\\Uncertainty.py:35: UserWarning: X values should be bigger than 0\n",
      "  warnings.warn(f'X values should be bigger than 0')\n",
      "  0%|          | 0/10 [00:00<?, ?it/s, Accuracy=1]c:\\Users\\salee\\OneDrive - Technion\\Data science\\semester 8\\Lab\\Project\\utils\\Uncertainty.py:35: UserWarning: X values should be bigger than 0\n",
      "  warnings.warn(f'X values should be bigger than 0')\n",
      "  0%|          | 0/10 [00:00<?, ?it/s, Accuracy=1]c:\\Users\\salee\\OneDrive - Technion\\Data science\\semester 8\\Lab\\Project\\utils\\Uncertainty.py:35: UserWarning: X values should be bigger than 0\n",
      "  warnings.warn(f'X values should be bigger than 0')\n",
      " 50%|█████     | 5/10 [00:00<00:00, 49.14it/s, Accuracy=1]c:\\Users\\salee\\OneDrive - Technion\\Data science\\semester 8\\Lab\\Project\\utils\\Uncertainty.py:35: UserWarning: X values should be bigger than 0\n",
      "  warnings.warn(f'X values should be bigger than 0')\n",
      " 50%|█████     | 5/10 [00:00<00:00, 49.14it/s, Accuracy=1]c:\\Users\\salee\\OneDrive - Technion\\Data science\\semester 8\\Lab\\Project\\utils\\Uncertainty.py:35: UserWarning: X values should be bigger than 0\n",
      "  warnings.warn(f'X values should be bigger than 0')\n",
      " 50%|█████     | 5/10 [00:00<00:00, 49.14it/s, Accuracy=1]c:\\Users\\salee\\OneDrive - Technion\\Data science\\semester 8\\Lab\\Project\\utils\\Uncertainty.py:35: UserWarning: X values should be bigger than 0\n",
      "  warnings.warn(f'X values should be bigger than 0')\n",
      " 50%|█████     | 5/10 [00:00<00:00, 49.14it/s, Accuracy=1]c:\\Users\\salee\\OneDrive - Technion\\Data science\\semester 8\\Lab\\Project\\utils\\Uncertainty.py:35: UserWarning: X values should be bigger than 0\n",
      "  warnings.warn(f'X values should be bigger than 0')\n",
      " 50%|█████     | 5/10 [00:00<00:00, 49.14it/s, Accuracy=1]c:\\Users\\salee\\OneDrive - Technion\\Data science\\semester 8\\Lab\\Project\\utils\\Uncertainty.py:35: UserWarning: X values should be bigger than 0\n",
      "  warnings.warn(f'X values should be bigger than 0')\n",
      "100%|██████████| 10/10 [00:00<00:00, 39.39it/s, Accuracy=1]"
     ]
    },
    {
     "name": "stdout",
     "output_type": "stream",
     "text": [
      "[1.0, 1.0, 1.0, 1.0, 1.0, 1.0, 1.0, 1.0, 1.0, 1.0]\n"
     ]
    },
    {
     "name": "stderr",
     "output_type": "stream",
     "text": [
      "\n"
     ]
    }
   ],
   "source": [
    "from ActiveLearning import ActiveLearningPipeline\n",
    "al = ActiveLearningPipeline(dataset=dataset, \n",
    "                            classifying_model=\"LogisticRegression\", \n",
    "                            selection_criterion=\"entropy_e\", \n",
    "                            weighted_selection=False, \n",
    "                            iterations=10, \n",
    "                            budget_per_iter=2, \n",
    "                            graph_building_function=\"cosine\", \n",
    "                            graph_threshold=0.1)\n",
    "\n",
    "res = al.run_pipeline()\n",
    "\n",
    "print(res)"
   ]
  }
 ],
 "metadata": {
  "kernelspec": {
   "display_name": "Python 3",
   "language": "python",
   "name": "python3"
  },
  "language_info": {
   "codemirror_mode": {
    "name": "ipython",
    "version": 3
   },
   "file_extension": ".py",
   "mimetype": "text/x-python",
   "name": "python",
   "nbconvert_exporter": "python",
   "pygments_lexer": "ipython3",
   "version": "3.10.6"
  }
 },
 "nbformat": 4,
 "nbformat_minor": 2
}
