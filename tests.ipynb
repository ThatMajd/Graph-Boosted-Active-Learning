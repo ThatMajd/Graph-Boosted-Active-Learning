{
 "cells": [
  {
   "cell_type": "code",
   "execution_count": 12,
   "metadata": {},
   "outputs": [],
   "source": [
    "import warnings\n",
    "warnings.filterwarnings('ignore')\n",
    "\n",
    "import numpy as np\n",
    "import torch\n",
    "from torch import nn\n",
    "from torch import optim\n",
    "import matplotlib.pyplot as plt\n",
    "from ActiveLearning import Classifier, GAL, GNN, ActiveLearningPipeline, generate_plot, GALClassifier\n",
    "from sklearn.linear_model import LogisticRegression\n",
    "import numpy.linalg as nla\n",
    "import pickle\n",
    "import networkx as nx\n",
    "from sklearn.metrics.pairwise import pairwise_distances\n",
    "\n"
   ]
  },
  {
   "cell_type": "code",
   "execution_count": 13,
   "metadata": {},
   "outputs": [],
   "source": [
    "with open('dataset_q1.pkl', 'rb') as f:\n",
    "\tdataset = pickle.load(f)"
   ]
  },
  {
   "cell_type": "code",
   "execution_count": 14,
   "metadata": {},
   "outputs": [],
   "source": [
    "iterations = 40\n",
    "budget_per_iter = 50\n",
    "train_limit = 2010\n",
    "gal = GAL(\n",
    "\tdataset,\n",
    "\tNone,\n",
    "\titerations,\n",
    "\tbudget_per_iter,\n",
    "\ttrain_limit,\n",
    "\t.9,\n",
    "\tNone,\n",
    "\tLogisticRegression,\n",
    "\tGNN\n",
    ")"
   ]
  },
  {
   "cell_type": "code",
   "execution_count": 4,
   "metadata": {},
   "outputs": [],
   "source": [
    "from collections import defaultdict\n",
    "accuracy_scores_dict = defaultdict(list)"
   ]
  },
  {
   "cell_type": "code",
   "execution_count": null,
   "metadata": {},
   "outputs": [],
   "source": [
    "accuracy_scores_dict['GAL'] = gal.run_pipeline()"
   ]
  },
  {
   "cell_type": "code",
   "execution_count": null,
   "metadata": {},
   "outputs": [],
   "source": [
    "selection_criteria = ['random', 'custom']\n",
    "for criterion in selection_criteria:\n",
    "\tAL_class = ActiveLearningPipeline(dataset=dataset,\n",
    "\t\t\t\t\t\t\t\t\tselection_criterion=criterion,\n",
    "\t\t\t\t\t\t\t\t\titerations=iterations,\n",
    "\t\t\t\t\t\t\t\t\tbudget_per_iter=budget_per_iter,\n",
    "\t\t\t\t\t\t\t\t\ttrain_limit=train_limit)\n",
    "\taccuracy_scores_dict[criterion] = AL_class.run_pipeline()\n"
   ]
  },
  {
   "cell_type": "code",
   "execution_count": null,
   "metadata": {},
   "outputs": [],
   "source": [
    "generate_plot(accuracy_scores_dict)"
   ]
  }
 ],
 "metadata": {
  "kernelspec": {
   "display_name": "Python 3",
   "language": "python",
   "name": "python3"
  },
  "language_info": {
   "codemirror_mode": {
    "name": "ipython",
    "version": 3
   },
   "file_extension": ".py",
   "mimetype": "text/x-python",
   "name": "python",
   "nbconvert_exporter": "python",
   "pygments_lexer": "ipython3",
   "version": "3.12.1"
  }
 },
 "nbformat": 4,
 "nbformat_minor": 2
}
