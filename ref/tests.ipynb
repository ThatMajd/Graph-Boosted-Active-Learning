{
 "cells": [
  {
   "cell_type": "code",
   "execution_count": 1,
   "metadata": {},
   "outputs": [
    {
     "name": "stderr",
     "output_type": "stream",
     "text": [
      "c:\\Users\\Saleem\\AppData\\Local\\Programs\\Python\\Python312\\Lib\\site-packages\\torch_geometric\\typing.py:72: UserWarning: An issue occurred while importing 'torch-scatter'. Disabling its usage. Stacktrace: [WinError 127] The specified procedure could not be found\n",
      "  warnings.warn(f\"An issue occurred while importing 'torch-scatter'. \"\n",
      "c:\\Users\\Saleem\\AppData\\Local\\Programs\\Python\\Python312\\Lib\\site-packages\\torch_geometric\\typing.py:110: UserWarning: An issue occurred while importing 'torch-sparse'. Disabling its usage. Stacktrace: [WinError 127] The specified procedure could not be found\n",
      "  warnings.warn(f\"An issue occurred while importing 'torch-sparse'. \"\n"
     ]
    }
   ],
   "source": [
    "from sklearn.linear_model import LogisticRegression\n",
    "from utils.dataset_wrapper import WrapperDataset\n",
    "from ref.ActiveLearning_OG import AL\n",
    "import matplotlib.pyplot as plt\n",
    "from pipeline import GAL\n",
    "import numpy as np\n",
    "import wandb\n",
    "import os"
   ]
  },
  {
   "cell_type": "code",
   "execution_count": 2,
   "metadata": {},
   "outputs": [
    {
     "data": {
      "text/plain": [
       "['iris.pkl', 'lab_dataset_2000.pkl', 'wineQT.pkl']"
      ]
     },
     "execution_count": 2,
     "metadata": {},
     "output_type": "execute_result"
    }
   ],
   "source": [
    "os.listdir('data')"
   ]
  },
  {
   "cell_type": "code",
   "execution_count": 3,
   "metadata": {},
   "outputs": [],
   "source": [
    "def sample(dataset, train_size=None, pool_size=2_000, test_size=1_000):\n",
    "\tn_pool = len(dataset['available_pool_samples'])\n",
    "\tn_test = len(dataset['test_samples'])\n",
    "\n",
    "\tpool_sample_idx = np.random.choice(range(n_pool), pool_size)\n",
    "\ttest_sample_idx = np.random.choice(range(n_test), test_size)\n",
    "\n",
    "\tdataset['available_pool_samples'] = dataset['available_pool_samples'][pool_sample_idx]\n",
    "\tdataset['available_pool_labels'] = dataset['available_pool_labels'][pool_sample_idx]\n",
    "\n",
    "\tdataset[\"test_samples\"] = dataset[\"test_samples\"][test_sample_idx]\n",
    "\tdataset[\"test_labels\"] = dataset[\"test_labels\"][test_sample_idx]"
   ]
  },
  {
   "cell_type": "code",
   "execution_count": 4,
   "metadata": {},
   "outputs": [],
   "source": [
    "ds_name = 'iris.pkl'\n",
    "data_object = WrapperDataset(ds_name)\n",
    "dataset = data_object.dataset\n",
    "# sample(dataset)\n",
    "\n",
    "input_dim = data_object.dim\n",
    "output_dim = data_object.num_labels\n",
    "labels = output_dim"
   ]
  },
  {
   "cell_type": "code",
   "execution_count": 5,
   "metadata": {},
   "outputs": [
    {
     "data": {
      "text/plain": [
       "(105,)"
      ]
     },
     "execution_count": 5,
     "metadata": {},
     "output_type": "execute_result"
    }
   ],
   "source": [
    "dataset['available_pool_labels'].shape"
   ]
  },
  {
   "cell_type": "code",
   "execution_count": 10,
   "metadata": {},
   "outputs": [],
   "source": [
    "iterations = 21\n",
    "budg_per = 5\n",
    "gnn_epochs = 5\n",
    "quantile = .01\n",
    "hidden_dim = 64\n",
    "use_gnn = True"
   ]
  },
  {
   "cell_type": "code",
   "execution_count": 7,
   "metadata": {},
   "outputs": [
    {
     "name": "stdout",
     "output_type": "stream",
     "text": [
      "entropy_e\n",
      "SimpleGNN(\n",
      "  (encoder_conv1): GCNConv(4, 64)\n",
      "  (encoder_conv2): SAGEConv(64, 64, aggr=sum)\n",
      "  (decoder): Classifier(\n",
      "    (model): Sequential(\n",
      "      (0): Linear(in_features=64, out_features=64, bias=True)\n",
      "      (1): ReLU()\n",
      "      (2): Linear(in_features=64, out_features=128, bias=True)\n",
      "      (3): ReLU()\n",
      "      (4): Linear(in_features=128, out_features=3, bias=True)\n",
      "    )\n",
      "    (softmax): Softmax(dim=-1)\n",
      "  )\n",
      ")\n"
     ]
    },
    {
     "name": "stderr",
     "output_type": "stream",
     "text": [
      "  0%|          | 0/21 [00:00<?, ?it/s]"
     ]
    },
    {
     "ename": "",
     "evalue": "",
     "output_type": "error",
     "traceback": [
      "\u001b[1;31mThe Kernel crashed while executing code in the current cell or a previous cell. \n",
      "\u001b[1;31mPlease review the code in the cell(s) to identify a possible cause of the failure. \n",
      "\u001b[1;31mClick <a href='https://aka.ms/vscodeJupyterKernelCrash'>here</a> for more info. \n",
      "\u001b[1;31mView Jupyter <a href='command:jupyter.viewOutput'>log</a> for further details."
     ]
    }
   ],
   "source": [
    "entropies = ['entropy_e',\n",
    "\t\t\t 'density_kmean',\n",
    "\t\t\t 'pagerank',\n",
    "\t\t\t 'area_variance', \n",
    "\t\t\t ('entropy_e',\n",
    "\t \t\t  'density_kmean',\n",
    "\t\t\t  'pagerank',\n",
    "\t\t\t  'area_variance',)]\n",
    "GAL_dict = {}\n",
    "\n",
    "for e in entropies:\n",
    "\tprint(e)\n",
    "\tal = GAL(dataset,\n",
    "\t\t LogisticRegression(),\n",
    "\t\t budg_per,\n",
    "\t\t uncertainty_measures=[e] if isinstance(e, str) else e,\n",
    "\t\t coef=[True, False, False, False] if isinstance(e, list) else None,\n",
    "\t\t iterations=iterations,\n",
    "\t\t gnn_epochs=gnn_epochs,\n",
    "\t\t quantile=quantile,\n",
    "\t\t labels=labels,\n",
    "\t\t input_dim=input_dim,\n",
    "\t\t hidden_dim=hidden_dim,\n",
    "\t\t output_dim=output_dim,\n",
    "\t\t use_gnn=use_gnn,\n",
    "\t\t train_graph_include_test=False,)\n",
    "\tGAL_dict[e] = al.run(plot=False)\n",
    "\n",
    "\n",
    "al = GAL(dataset,\n",
    "\tLogisticRegression(),\n",
    "\tbudg_per,\n",
    "\tuncertainty_measures=[e] if isinstance(e, str) else e,\n",
    "\tcoef=[True, False, False, False] if isinstance(e, list) else None,\n",
    "\titerations=iterations,\n",
    "\tgnn_epochs=gnn_epochs,\n",
    "\tquantile=quantile,\n",
    "\tlabels=labels,\n",
    "\tinput_dim=input_dim,\n",
    "\thidden_dim=hidden_dim,\n",
    "\toutput_dim=output_dim,\n",
    "\tuse_gnn=use_gnn,\n",
    "\ttrain_graph_include_test=False,)\n",
    "GAL_dict['AL4GE'] = al.run(plot=False)"
   ]
  },
  {
   "cell_type": "code",
   "execution_count": 44,
   "metadata": {},
   "outputs": [
    {
     "name": "stdout",
     "output_type": "stream",
     "text": [
      "Iteration 1/21\n",
      "Accuracy: 0.8\n",
      "----------------------------------------\n",
      "Iteration 2/21\n",
      "Accuracy: 0.833\n",
      "----------------------------------------\n",
      "Iteration 3/21\n",
      "Accuracy: 0.833\n",
      "----------------------------------------\n",
      "Iteration 4/21\n",
      "Accuracy: 0.8\n",
      "----------------------------------------\n",
      "Iteration 5/21\n",
      "Accuracy: 0.833\n",
      "----------------------------------------\n",
      "Iteration 6/21\n",
      "Accuracy: 0.833\n",
      "----------------------------------------\n",
      "Iteration 7/21\n",
      "Accuracy: 0.867\n",
      "----------------------------------------\n",
      "Iteration 8/21\n",
      "Accuracy: 0.867\n",
      "----------------------------------------\n",
      "Iteration 9/21\n",
      "Accuracy: 0.9\n",
      "----------------------------------------\n",
      "Iteration 10/21\n",
      "Accuracy: 0.9\n",
      "----------------------------------------\n",
      "Iteration 11/21\n",
      "Accuracy: 0.9\n",
      "----------------------------------------\n",
      "Iteration 12/21\n",
      "Accuracy: 0.9\n",
      "----------------------------------------\n",
      "Iteration 13/21\n",
      "Accuracy: 0.9\n",
      "----------------------------------------\n",
      "Iteration 14/21\n",
      "Accuracy: 0.9\n",
      "----------------------------------------\n",
      "Iteration 15/21\n",
      "Accuracy: 0.9\n",
      "----------------------------------------\n",
      "Iteration 16/21\n",
      "Accuracy: 0.9\n",
      "----------------------------------------\n",
      "Iteration 17/21\n",
      "Accuracy: 0.9\n",
      "----------------------------------------\n",
      "Iteration 18/21\n",
      "Accuracy: 0.9\n",
      "----------------------------------------\n",
      "Iteration 19/21\n",
      "Accuracy: 0.9\n",
      "----------------------------------------\n",
      "Iteration 20/21\n",
      "Accuracy: 0.9\n",
      "----------------------------------------\n",
      "Iteration 21/21\n",
      "Accuracy: 0.9\n",
      "----------------------------------------\n",
      "Iteration 1/21\n",
      "Accuracy: 0.8\n",
      "----------------------------------------\n",
      "Iteration 2/21\n",
      "Accuracy: 0.767\n",
      "----------------------------------------\n",
      "Iteration 3/21\n",
      "Accuracy: 0.767\n",
      "----------------------------------------\n",
      "Iteration 4/21\n",
      "Accuracy: 0.767\n",
      "----------------------------------------\n",
      "Iteration 5/21\n",
      "Accuracy: 0.8\n",
      "----------------------------------------\n",
      "Iteration 6/21\n",
      "Accuracy: 0.867\n",
      "----------------------------------------\n",
      "Iteration 7/21\n",
      "Accuracy: 0.9\n",
      "----------------------------------------\n",
      "Iteration 8/21\n",
      "Accuracy: 0.9\n",
      "----------------------------------------\n",
      "Iteration 9/21\n",
      "Accuracy: 0.9\n",
      "----------------------------------------\n",
      "Iteration 10/21\n",
      "Accuracy: 0.9\n",
      "----------------------------------------\n",
      "Iteration 11/21\n",
      "Accuracy: 0.9\n",
      "----------------------------------------\n",
      "Iteration 12/21\n",
      "Accuracy: 0.867\n",
      "----------------------------------------\n",
      "Iteration 13/21\n",
      "Accuracy: 0.9\n",
      "----------------------------------------\n",
      "Iteration 14/21\n",
      "Accuracy: 0.9\n",
      "----------------------------------------\n",
      "Iteration 15/21\n",
      "Accuracy: 0.9\n",
      "----------------------------------------\n",
      "Iteration 16/21\n",
      "Accuracy: 0.9\n",
      "----------------------------------------\n",
      "Iteration 17/21\n",
      "Accuracy: 0.9\n",
      "----------------------------------------\n",
      "Iteration 18/21\n",
      "Accuracy: 0.9\n",
      "----------------------------------------\n",
      "Iteration 19/21\n",
      "Accuracy: 0.9\n",
      "----------------------------------------\n",
      "Iteration 20/21\n",
      "Accuracy: 0.9\n",
      "----------------------------------------\n",
      "Iteration 21/21\n",
      "Accuracy: 0.9\n",
      "----------------------------------------\n"
     ]
    }
   ],
   "source": [
    "selection_criteria = ['random', 'custom']\n",
    "accuracy_scores_dict = {}\n",
    "for criterion in selection_criteria:\n",
    "\tAL_class = AL(dataset=dataset,\n",
    "\t\t\t   selection_criterion=criterion,\n",
    "\t\t\t   iterations=iterations,\n",
    "\t\t\t   budget_per_iter=budg_per,\n",
    "\t\t\t   train_limit=int(1e6))\n",
    "\taccuracy_scores_dict[criterion] = AL_class.run_pipeline()\n"
   ]
  },
  {
   "cell_type": "code",
   "execution_count": 49,
   "metadata": {},
   "outputs": [],
   "source": [
    "# GAL_dict['entropy_e']"
   ]
  },
  {
   "cell_type": "code",
   "execution_count": null,
   "metadata": {},
   "outputs": [
    {
     "ename": "KeyError",
     "evalue": "'GNN'",
     "output_type": "error",
     "traceback": [
      "\u001b[1;31m---------------------------------------------------------------------------\u001b[0m",
      "\u001b[1;31mKeyError\u001b[0m                                  Traceback (most recent call last)",
      "Cell \u001b[1;32mIn[46], line 7\u001b[0m\n\u001b[0;32m      1\u001b[0m \u001b[38;5;66;03m# plt.plot(res_gal['aggr'], label='GAL')\u001b[39;00m\n\u001b[0;32m      2\u001b[0m \u001b[38;5;66;03m# if al.use_gnn:\u001b[39;00m\n\u001b[0;32m      3\u001b[0m \u001b[38;5;66;03m# \tplt.plot(res_gal['GNN'], label='GNN', alpha=.5)\u001b[39;00m\n\u001b[0;32m      4\u001b[0m \u001b[38;5;66;03m# \tplt.plot(res_gal['LR'], label='LR', alpha=.5)\u001b[39;00m\n\u001b[0;32m      6\u001b[0m \u001b[38;5;28;01mfor\u001b[39;00m criterion, accuracy_scores \u001b[38;5;129;01min\u001b[39;00m GAL_dict\u001b[38;5;241m.\u001b[39mitems():\n\u001b[1;32m----> 7\u001b[0m \t\u001b[38;5;28mprint\u001b[39m(\u001b[38;5;124mf\u001b[39m\u001b[38;5;124m'\u001b[39m\u001b[38;5;124miris.pkl,\u001b[39m\u001b[38;5;132;01m{\u001b[39;00mcriterion\u001b[38;5;132;01m}\u001b[39;00m\u001b[38;5;124m,\u001b[39m\u001b[38;5;132;01m{\u001b[39;00mcriterion\u001b[38;5;250m \u001b[39m\u001b[38;5;241m==\u001b[39m\u001b[38;5;250m \u001b[39m\u001b[38;5;124m\"\u001b[39m\u001b[38;5;124mAL4GE\u001b[39m\u001b[38;5;124m\"\u001b[39m\u001b[38;5;132;01m}\u001b[39;00m\u001b[38;5;124m,\u001b[39m\u001b[38;5;132;01m{\u001b[39;00mnp\u001b[38;5;241m.\u001b[39mmean(\u001b[43maccuracy_scores\u001b[49m\u001b[43m[\u001b[49m\u001b[38;5;124;43m\"\u001b[39;49m\u001b[38;5;124;43mGNN\u001b[39;49m\u001b[38;5;124;43m\"\u001b[39;49m\u001b[43m]\u001b[49m)\u001b[38;5;132;01m:\u001b[39;00m\u001b[38;5;124m.3f\u001b[39m\u001b[38;5;132;01m}\u001b[39;00m\u001b[38;5;124m'\u001b[39m)\n\u001b[0;32m      8\u001b[0m \t\u001b[38;5;66;03m# print(criterion, f'{np.mean(accuracy_scores['aggr']):.3f}')\u001b[39;00m\n\u001b[0;32m      9\u001b[0m \tplt\u001b[38;5;241m.\u001b[39mplot(accuracy_scores[\u001b[38;5;124m'\u001b[39m\u001b[38;5;124maggr\u001b[39m\u001b[38;5;124m'\u001b[39m], label\u001b[38;5;241m=\u001b[39mcriterion)\n",
      "\u001b[1;31mKeyError\u001b[0m: 'GNN'"
     ]
    }
   ],
   "source": [
    "# plt.plot(res_gal['aggr'], label='GAL')\n",
    "# if al.use_gnn:\n",
    "# \tplt.plot(res_gal['GNN'], label='GNN', alpha=.5)\n",
    "# \tplt.plot(res_gal['LR'], label='LR', alpha=.5)\n",
    "\n",
    "for criterion, accuracy_scores in GAL_dict.items():\n",
    "\tprint(f'iris.pkl,{criterion},{criterion == \"AL4GE\"},{np.mean(accuracy_scores[\"GNN\"]):.3f}')\n",
    "\t# print(criterion, f'{np.mean(accuracy_scores['aggr']):.3f}')\n",
    "\tplt.plot(accuracy_scores['aggr'], label=criterion)\n",
    "\n",
    "for criterion, accuracy_scores in accuracy_scores_dict.items():\n",
    "\tprint(f'iris.pkl,{criterion},{criterion == \"AL4GE\"},{np.mean(accuracy_scores):.3f}')\n",
    "\tplt.plot(accuracy_scores, label=criterion)\n",
    "\t# plt.plot(range(1, len(accuracy_scores) + 1), accuracy_scores, label=criterion)\n",
    "\n",
    "plt.xlabel('Iterations')\n",
    "plt.ylabel('Accuracy')\n",
    "# plt.xticks(range(1, len(accuracy_scores) + 1))\n",
    "plt.legend()\n",
    "plt.show()\n"
   ]
  }
 ],
 "metadata": {
  "kernelspec": {
   "display_name": "Python 3",
   "language": "python",
   "name": "python3"
  },
  "language_info": {
   "codemirror_mode": {
    "name": "ipython",
    "version": 3
   },
   "file_extension": ".py",
   "mimetype": "text/x-python",
   "name": "python",
   "nbconvert_exporter": "python",
   "pygments_lexer": "ipython3",
   "version": "3.11.10"
  }
 },
 "nbformat": 4,
 "nbformat_minor": 2
}
